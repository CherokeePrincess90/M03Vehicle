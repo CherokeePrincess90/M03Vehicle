{
 "cells": [
  {
   "cell_type": "code",
   "execution_count": 9,
   "metadata": {},
   "outputs": [
    {
     "name": "stdout",
     "output_type": "stream",
     "text": [
      "\n",
      "Vehicle Type :honda\n",
      "\n",
      "Year :2016\n",
      "\n",
      "Make :honda\n",
      "\n",
      "Model :odyssey\n",
      "\n",
      "Number of doors :4\n",
      "\n",
      "Type of roof :sun rood\n"
     ]
    }
   ],
   "source": [
    "#super class\n",
    "class vehicle:\n",
    "\tdef __init__(self,type):   \n",
    "\t\tself.type=type \n",
    "\n",
    "#subclass and constructors\n",
    "class automobile(vehicle):\n",
    "\tdef __init__(self,type,year,make,model,doors,roof):\n",
    "\t\tsuper().__init__(type) \n",
    "\t\tself.year=year\n",
    "\t\tself.make=make\n",
    "\t\tself.model=model\n",
    "\t\tself.doors=doors\n",
    "\t\tself.roof=roof\n",
    "\n",
    "#user input \n",
    "type_a=input(\"Type of Vehicle: \")\n",
    "year_a=input(\"Enter the Year: \")\n",
    "make_a=input(\"Enter the Manufacturer: \")\n",
    "model_a=input(\"Enter the Model: \")\n",
    "doors_a=input(\"Enter the Number of Doors: \")\n",
    "roof_a=input(\"Is the roof Solid or Sun Roof: \")\n",
    "A=automobile(type_a,year_a,make_a,model_a,doors_a,roof_a) #calling the constructor with alls values readed\n",
    "\n",
    "#print the output\n",
    "print(\"\\nVehicle Type :\"+A.type)\n",
    "print(\"\\nYear :\"+A.year)\n",
    "print(\"\\nMake :\"+A.make)\n",
    "print(\"\\nModel :\"+A.model)\n",
    "print(\"\\nNumber of doors :\"+A.doors)\n",
    "print(\"\\nType of roof :\"+A.roof)\n"
   ]
  }
 ],
 "metadata": {
  "kernelspec": {
   "display_name": "Python 3.10.4 64-bit",
   "language": "python",
   "name": "python3"
  },
  "language_info": {
   "codemirror_mode": {
    "name": "ipython",
    "version": 3
   },
   "file_extension": ".py",
   "mimetype": "text/x-python",
   "name": "python",
   "nbconvert_exporter": "python",
   "pygments_lexer": "ipython3",
   "version": "3.10.4"
  },
  "orig_nbformat": 4,
  "vscode": {
   "interpreter": {
    "hash": "ac14b001098f2ade99f71d6ab314561ef6236e9504f1568c1bb651c5f52310e2"
   }
  }
 },
 "nbformat": 4,
 "nbformat_minor": 2
}
